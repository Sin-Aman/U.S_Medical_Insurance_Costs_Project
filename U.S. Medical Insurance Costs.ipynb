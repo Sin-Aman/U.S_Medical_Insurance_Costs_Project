{
 "cells": [
  {
   "cell_type": "markdown",
   "id": "fed4dd9a",
   "metadata": {},
   "source": [
    "# U.S Medical Insurance Costs"
   ]
  },
  {
   "cell_type": "code",
   "execution_count": 33,
   "id": "516addab",
   "metadata": {},
   "outputs": [],
   "source": [
    "#importing the required libraries\n",
    "import csv\n",
    "import pandas\n",
    "import seaborn as sns\n",
    "import matplotlib.pyplot as plt"
   ]
  },
  {
   "cell_type": "code",
   "execution_count": 3,
   "id": "ef3962c3",
   "metadata": {},
   "outputs": [],
   "source": [
    "# helper function to load data from csv file into a list\n",
    "def load_list_data(lst, csv_file, column_name):\n",
    "    # open csv file\n",
    "    with open(csv_file) as csv_info:\n",
    "        # read the data from the csv file\n",
    "        csv_dict = csv.DictReader(csv_info)\n",
    "        # loop through the data in each row of the csv \n",
    "        for row in csv_dict:\n",
    "            # add the data from each row to a list\n",
    "            lst.append(row[column_name])\n",
    "        # return the list\n",
    "        return lst"
   ]
  },
  {
   "cell_type": "code",
   "execution_count": 4,
   "id": "e74feac4",
   "metadata": {},
   "outputs": [],
   "source": [
    "#Create empty lists for the various attributes in insurance.csv\n",
    "ages = []\n",
    "sexes = []\n",
    "bmis = []\n",
    "num_children = []\n",
    "smoker_statuses = []\n",
    "regions = []\n",
    "insurance_charges = []"
   ]
  },
  {
   "cell_type": "code",
   "execution_count": 13,
   "id": "d6e24765",
   "metadata": {},
   "outputs": [
    {
     "name": "stdout",
     "output_type": "stream",
     "text": [
      "Ages: ['19', '18', '28', '33', '32']\n",
      "Sexes: ['female', 'male', 'male', 'male', 'male']\n",
      "BMIs: ['27.9', '33.77', '33', '22.705', '28.88']\n",
      "Number of Children: ['0', '1', '3', '0', '0']\n",
      "Smoker Statuses: ['yes', 'no', 'no', 'no', 'no']\n",
      "Regions: ['southwest', 'southeast', 'southeast', 'northwest', 'northwest']\n",
      "Insurance Charges: ['16884.924', '1725.5523', '4449.462', '21984.47061', '3866.8552']\n"
     ]
    }
   ],
   "source": [
    "# look at the data in insurance_csv_dict\n",
    "load_list_data(ages, r'C:\\Users\\amans\\Downloads\\insurance.csv', 'age')\n",
    "load_list_data(sexes, r'C:\\Users\\amans\\Downloads\\insurance.csv', 'sex')\n",
    "load_list_data(bmis, r'C:\\Users\\amans\\Downloads\\insurance.csv', 'bmi')\n",
    "load_list_data(num_children, r'C:\\Users\\amans\\Downloads\\insurance.csv', 'children')\n",
    "load_list_data(smoker_statuses, r'C:\\Users\\amans\\Downloads\\insurance.csv', 'smoker')\n",
    "load_list_data(regions, r'C:\\Users\\amans\\Downloads\\insurance.csv', 'region')\n",
    "load_list_data(insurance_charges, r'C:\\Users\\amans\\Downloads\\insurance.csv', 'charges')\n",
    "\n",
    "# Print a summary of the loaded data (first 5 elements of each list)\n",
    "print(\"Ages:\", ages[:5])\n",
    "print(\"Sexes:\", sexes[:5])\n",
    "print(\"BMIs:\", bmis[:5])\n",
    "print(\"Number of Children:\", num_children[:5])\n",
    "print(\"Smoker Statuses:\", smoker_statuses[:5])\n",
    "print(\"Regions:\", regions[:5])\n",
    "print(\"Insurance Charges:\", insurance_charges[:5])"
   ]
  },
  {
   "cell_type": "code",
   "execution_count": 24,
   "id": "f49d7d62",
   "metadata": {},
   "outputs": [],
   "source": [
    "#class to perform analysis on patient data\n",
    "class PatientsInfo:\n",
    "    # init method that takes in each list parameter\n",
    "    def __init__(self, patients_ages, patients_sexes, patients_bmis, patients_num_children, \n",
    "                 patients_smoker_statuses, patients_regions, patients_charges):\n",
    "        self.patients_ages = patients_ages\n",
    "        self.patients_sexes = patients_sexes\n",
    "        self.patients_bmis = patients_bmis\n",
    "        self.patients_num_children = patients_num_children\n",
    "        self.patients_smoker_statuses = patients_smoker_statuses\n",
    "        self.patients_regions = patients_regions\n",
    "        self.patients_charges = patients_charges\n",
    "\n",
    "    # method that calculates the average ages of the patients in insurance.csv\n",
    "    def analyze_ages(self):\n",
    "        # initialize total age at zero\n",
    "        total_age = 0\n",
    "        # iterate through all ages in the ages list\n",
    "        for age in self.patients_ages:\n",
    "            # sum of the total age\n",
    "            total_age += int(age)\n",
    "        # return total age divided by the length of the patient list\n",
    "        return (\"Average Patient Age: \" + str(round(total_age/len(self.patients_ages), 2)) + \" years\")\n",
    "\n",
    "    # method that calculates the number of males and females in insurance.csv\n",
    "    def analyze_sexes(self):\n",
    "        # initialize number of males and females to zero\n",
    "        females = 0\n",
    "        males = 0\n",
    "        # iterate through each sex in the sexes list\n",
    "        for sex in self.patients_sexes:\n",
    "            # if female add to female variable\n",
    "            if sex == 'female':\n",
    "                females += 1\n",
    "            # if male add to male variable\n",
    "            elif sex == 'male':\n",
    "                males += 1\n",
    "        # print out the number of each\n",
    "        print(\"Count for female: \", females)\n",
    "        print(\"Count for male: \", males)\n",
    "\n",
    "    # method to find each unique region patients are from\n",
    "    def unique_regions(self):\n",
    "        # initialize empty list\n",
    "        unique_regions = []\n",
    "        # iterate through each region in regions list\n",
    "        for region in self.patients_regions:\n",
    "            # if the region is not already in the unique regions list\n",
    "            # then add it to the unique regions list\n",
    "            if region not in unique_regions: \n",
    "                unique_regions.append(region)\n",
    "        # return unique regions list\n",
    "        return unique_regions\n",
    "\n",
    "    # method to find average yearly medical charges for patients in insurance.csv\n",
    "    def average_charges(self):\n",
    "        # initialize total_charges variable\n",
    "        total_charges = 0\n",
    "        # iterate through charges in patients charges list\n",
    "        # add each charge to total_charge\n",
    "        for charge in self.patients_charges:\n",
    "            total_charges += float(charge)\n",
    "        # return the average charges rounded to the hundredths place\n",
    "        return (\"Average Yearly Medical Insurance Charges: \" +  \n",
    "                str(round(total_charges/len(self.patients_charges), 2)) + \" dollars.\")\n",
    "    \n",
    "    # method to find BMI categories for patients\n",
    "    def analyze_bmi_categories(self):\n",
    "        bmi_categories = []\n",
    "        for bmi in self.patients_bmis:\n",
    "            bmi_value = float(bmi)\n",
    "            if bmi_value < 18.5:\n",
    "                category = 'Underweight'\n",
    "            elif 18.5 <= bmi_value < 24.9:\n",
    "                category = 'Normal Weight'\n",
    "            elif 25 <= bmi_value < 29.9:\n",
    "                category = 'Overweight'\n",
    "            else:\n",
    "                category = 'Obese'\n",
    "            bmi_categories.append(category)\n",
    "        return bmi_categories\n",
    "    \n",
    "    # method to calculate average charges\n",
    "    def average_charges(self):\n",
    "        total_charges = sum(float(charge) for charge in self.patients_charges)\n",
    "        average_charges = total_charges / len(self.patients_charges)\n",
    "        return f\"Average Yearly Medical Insurance Charges: ${average_charges:.2f}\"\n",
    "    \n",
    "    # method to create dictionary with all patients information\n",
    "    def create_dictionary(self):\n",
    "        self.patients_dictionary = {}\n",
    "        self.patients_dictionary[\"age\"] = [int(age) for age in self.patients_ages]\n",
    "        self.patients_dictionary[\"sex\"] = self.patients_sexes\n",
    "        self.patients_dictionary[\"bmi\"] = self.patients_bmis\n",
    "        self.patients_dictionary[\"children\"] = self.patients_num_children\n",
    "        self.patients_dictionary[\"smoker\"] = self.patients_smoker_statuses\n",
    "        self.patients_dictionary[\"regions\"] = self.patients_regions\n",
    "        self.patients_dictionary[\"charges\"] = self.patients_charges\n",
    "        return self.patients_dictionary"
   ]
  },
  {
   "cell_type": "code",
   "execution_count": 25,
   "id": "3776e054",
   "metadata": {},
   "outputs": [
    {
     "data": {
      "text/plain": [
       "'Average Patient Age: 39.21 years'"
      ]
     },
     "execution_count": 25,
     "metadata": {},
     "output_type": "execute_result"
    }
   ],
   "source": [
    "#instance of class 'patient_info', to call each method \n",
    "patient_info = PatientsInfo(ages, sexes, bmis, num_children, smoker_statuses, regions, insurance_charges)\n",
    "patient_info.analyze_ages()"
   ]
  },
  {
   "cell_type": "code",
   "execution_count": 26,
   "id": "a63c0f14",
   "metadata": {},
   "outputs": [
    {
     "name": "stdout",
     "output_type": "stream",
     "text": [
      "Count for female:  1986\n",
      "Count for male:  2028\n"
     ]
    }
   ],
   "source": [
    "patient_info.analyze_sexes()"
   ]
  },
  {
   "cell_type": "code",
   "execution_count": 27,
   "id": "ebc25958",
   "metadata": {},
   "outputs": [
    {
     "data": {
      "text/plain": [
       "['southwest', 'southeast', 'northwest', 'northeast']"
      ]
     },
     "execution_count": 27,
     "metadata": {},
     "output_type": "execute_result"
    }
   ],
   "source": [
    "patient_info.unique_regions()"
   ]
  },
  {
   "cell_type": "code",
   "execution_count": 28,
   "id": "a23eb6ac",
   "metadata": {},
   "outputs": [
    {
     "data": {
      "text/plain": [
       "'Average Yearly Medical Insurance Charges: $13270.42'"
      ]
     },
     "execution_count": 28,
     "metadata": {},
     "output_type": "execute_result"
    }
   ],
   "source": [
    "patient_info.average_charges()"
   ]
  },
  {
   "cell_type": "code",
   "execution_count": 30,
   "id": "a9179674",
   "metadata": {},
   "outputs": [
    {
     "name": "stdout",
     "output_type": "stream",
     "text": [
      "BMI Categories of first 5 patients: ['Overweight', 'Obese', 'Obese', 'Normal Weight', 'Overweight']\n"
     ]
    }
   ],
   "source": [
    "patient_info.analyze_bmi_categories()\n",
    "print(\"BMI Categories of first 5 patients:\", patient_info.analyze_bmi_categories()[:5])"
   ]
  },
  {
   "cell_type": "code",
   "execution_count": 31,
   "id": "c8b8835e",
   "metadata": {},
   "outputs": [
    {
     "data": {
      "text/plain": [
       "'Average Yearly Medical Insurance Charges: $13270.42'"
      ]
     },
     "execution_count": 31,
     "metadata": {},
     "output_type": "execute_result"
    }
   ],
   "source": [
    "patient_info.average_charges()"
   ]
  },
  {
   "cell_type": "code",
   "execution_count": 48,
   "id": "7d02fbc2",
   "metadata": {},
   "outputs": [
    {
     "data": {
      "text/plain": [
       "Text(0.5, 1.0, 'Distribution of Ages in the Insurance Data')"
      ]
     },
     "execution_count": 48,
     "metadata": {},
     "output_type": "execute_result"
    },
    {
     "data": {
      "image/png": "[encoded data removed]",
      "text/plain": [
       "<Figure size 1100x600 with 1 Axes>"
      ]
     },
     "metadata": {},
     "output_type": "display_data"
    }
   ],
   "source": [
    "# visualizing a histogram of ages\n",
    "ages.sort()\n",
    "sns.set(style='whitegrid')\n",
    "plt.figure(figsize=(11,6))\n",
    "sns.histplot(ages,bins=10,kde=True,color='skyblue')\n",
    "plt.xlabel('Age')\n",
    "plt.ylabel('Count')\n",
    "plt.title('Distribution of Ages in the Insurance Data')"
   ]
  }
 ],
 "metadata": {
  "kernelspec": {
   "display_name": "Python 3 (ipykernel)",
   "language": "python",
   "name": "python3"
  },
  "language_info": {
   "codemirror_mode": {
    "name": "ipython",
    "version": 3
   },
   "file_extension": ".py",
   "mimetype": "text/x-python",
   "name": "python",
   "nbconvert_exporter": "python",
   "pygments_lexer": "ipython3",
   "version": "3.10.10"
  }
 },
 "nbformat": 4,
 "nbformat_minor": 5
}
